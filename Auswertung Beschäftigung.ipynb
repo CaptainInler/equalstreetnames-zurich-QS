{
 "cells": [
  {
   "cell_type": "code",
   "execution_count": null,
   "id": "7ceac396-54bb-4ff8-84ac-b948e74d350b",
   "metadata": {},
   "outputs": [],
   "source": [
    "!pip install pandas\n",
    "!pip install SPARQLWrapper "
   ]
  },
  {
   "cell_type": "code",
   "execution_count": null,
   "id": "ec6cbb7f-ecaa-4eb7-afee-d8261286f1be",
   "metadata": {},
   "outputs": [],
   "source": [
    "import pandas as pd\n",
    "from SPARQLWrapper import SPARQLWrapper, JSON"
   ]
  },
  {
   "cell_type": "code",
   "execution_count": null,
   "id": "5fa54152-be85-450c-9de8-86311dfbd9ee",
   "metadata": {},
   "outputs": [],
   "source": [
    "!pip install matplotlib"
   ]
  },
  {
   "cell_type": "code",
   "execution_count": null,
   "id": "12f6b7dd-2dce-490a-83f4-03a1caae77e3",
   "metadata": {},
   "outputs": [],
   "source": [
    "import matplotlib.pyplot as plt"
   ]
  },
  {
   "cell_type": "markdown",
   "id": "b145919d-053e-48ca-bdc0-bc5e78811755",
   "metadata": {},
   "source": [
    "# Beschäftigung der Namensgeberinnen"
   ]
  },
  {
   "cell_type": "code",
   "execution_count": 104,
   "id": "7923e415-3aa6-4ed8-8613-0dc63a9577e4",
   "metadata": {},
   "outputs": [],
   "source": [
    "def createQueryFemalOccup():\n",
    "    \n",
    "    wdUrl = \"https://query.wikidata.org/sparql\"\n",
    "    user_agent = 'Streetnamequery/1.0 (https://github.com/CaptainInler/equalstreetnames-zurich-QS)'\n",
    "    sparql = SPARQLWrapper(wdUrl, agent=user_agent)\n",
    "    \n",
    "    #print(wdKey)\n",
    "    query = \"\"\"\n",
    "    SELECT ?formLabel (Count(?formLabel) as ?maxformLabel) \n",
    "    WHERE \n",
    "    {\n",
    "      ?item wdt:P131 wd:Q72;\n",
    "            wdt:P138 ?person.\n",
    "      ?person wdt:P21 wd:Q6581072;\n",
    "              wdt:P31 wd:Q5;\n",
    "              wdt:P106 ?occu.\n",
    "      ?occu wdt:P2521 ?form.\n",
    "\n",
    "      FILTER (lang(?form)=\"de\")\n",
    "\n",
    "      SERVICE wikibase:label { bd:serviceParam wikibase:language \"[AUTO_LANGUAGE],en\". } \n",
    "    }\n",
    "    GROUP BY ?formLabel\n",
    "    ORDER BY DESC(?maxformLabel)\n",
    "    LIMIT 10\n",
    "    \"\"\"\n",
    "    #print(query)\n",
    "    \n",
    "    sparql.setQuery(query)\n",
    "    sparql.setReturnFormat(JSON)\n",
    "    return sparql"
   ]
  },
  {
   "cell_type": "code",
   "execution_count": 106,
   "id": "24404d15-e7ac-4390-b29d-e5df97e43af0",
   "metadata": {},
   "outputs": [],
   "source": [
    "sparql = createQueryFemalOccup()"
   ]
  },
  {
   "cell_type": "code",
   "execution_count": 107,
   "id": "3d22e5e8-7d7d-403d-a19e-ddbf5a276dbf",
   "metadata": {},
   "outputs": [],
   "source": [
    "results = \"\"\n",
    "\n",
    "try:\n",
    "    results = sparql.query()\n",
    "    #print(results.info())\n",
    "except HTTPError as e:\n",
    "    print(f\"{i} Anfragen ausgeführt\")\n",
    "    #Prüfen auf Statuscode 429 (Too many Requests)\n",
    "    if e.status == 429:\n",
    "        print(f'Statuscode 429 aufgetreten: Neu Anfrage in {e.headers.get(\"retry-after\")}sec möglich')\n",
    "        sleep(int(e.headers.get(\"retry-after\"))+2)\n",
    "    else:\n",
    "        raise\n",
    "        \n",
    "result = results.convert()\n",
    "#print(result)\n",
    "results_df = pd.json_normalize(result['results']['bindings'])\n"
   ]
  },
  {
   "cell_type": "code",
   "execution_count": 108,
   "id": "e5b4b815-c0f3-4def-909c-e3773431374e",
   "metadata": {},
   "outputs": [
    {
     "data": {
      "text/html": [
       "<div>\n",
       "<style scoped>\n",
       "    .dataframe tbody tr th:only-of-type {\n",
       "        vertical-align: middle;\n",
       "    }\n",
       "\n",
       "    .dataframe tbody tr th {\n",
       "        vertical-align: top;\n",
       "    }\n",
       "\n",
       "    .dataframe thead th {\n",
       "        text-align: right;\n",
       "    }\n",
       "</style>\n",
       "<table border=\"1\" class=\"dataframe\">\n",
       "  <thead>\n",
       "    <tr style=\"text-align: right;\">\n",
       "      <th></th>\n",
       "      <th>formLabel.type</th>\n",
       "      <th>formLabel.value</th>\n",
       "      <th>maxformLabel.datatype</th>\n",
       "      <th>maxformLabel.type</th>\n",
       "      <th>maxformLabel.value</th>\n",
       "    </tr>\n",
       "  </thead>\n",
       "  <tbody>\n",
       "    <tr>\n",
       "      <th>0</th>\n",
       "      <td>literal</td>\n",
       "      <td>Schriftstellerin</td>\n",
       "      <td>http://www.w3.org/2001/XMLSchema#integer</td>\n",
       "      <td>literal</td>\n",
       "      <td>16</td>\n",
       "    </tr>\n",
       "    <tr>\n",
       "      <th>1</th>\n",
       "      <td>literal</td>\n",
       "      <td>Politikerin</td>\n",
       "      <td>http://www.w3.org/2001/XMLSchema#integer</td>\n",
       "      <td>literal</td>\n",
       "      <td>7</td>\n",
       "    </tr>\n",
       "    <tr>\n",
       "      <th>2</th>\n",
       "      <td>literal</td>\n",
       "      <td>Kinderbuchautorin</td>\n",
       "      <td>http://www.w3.org/2001/XMLSchema#integer</td>\n",
       "      <td>literal</td>\n",
       "      <td>5</td>\n",
       "    </tr>\n",
       "    <tr>\n",
       "      <th>3</th>\n",
       "      <td>literal</td>\n",
       "      <td>Journalistin</td>\n",
       "      <td>http://www.w3.org/2001/XMLSchema#integer</td>\n",
       "      <td>literal</td>\n",
       "      <td>5</td>\n",
       "    </tr>\n",
       "    <tr>\n",
       "      <th>4</th>\n",
       "      <td>literal</td>\n",
       "      <td>Frauenrechtlerin</td>\n",
       "      <td>http://www.w3.org/2001/XMLSchema#integer</td>\n",
       "      <td>literal</td>\n",
       "      <td>5</td>\n",
       "    </tr>\n",
       "    <tr>\n",
       "      <th>5</th>\n",
       "      <td>literal</td>\n",
       "      <td>Dichterin</td>\n",
       "      <td>http://www.w3.org/2001/XMLSchema#integer</td>\n",
       "      <td>literal</td>\n",
       "      <td>5</td>\n",
       "    </tr>\n",
       "    <tr>\n",
       "      <th>6</th>\n",
       "      <td>literal</td>\n",
       "      <td>Romancière</td>\n",
       "      <td>http://www.w3.org/2001/XMLSchema#integer</td>\n",
       "      <td>literal</td>\n",
       "      <td>4</td>\n",
       "    </tr>\n",
       "    <tr>\n",
       "      <th>7</th>\n",
       "      <td>literal</td>\n",
       "      <td>Ärztin</td>\n",
       "      <td>http://www.w3.org/2001/XMLSchema#integer</td>\n",
       "      <td>literal</td>\n",
       "      <td>4</td>\n",
       "    </tr>\n",
       "    <tr>\n",
       "      <th>8</th>\n",
       "      <td>literal</td>\n",
       "      <td>Herausgeberin</td>\n",
       "      <td>http://www.w3.org/2001/XMLSchema#integer</td>\n",
       "      <td>literal</td>\n",
       "      <td>4</td>\n",
       "    </tr>\n",
       "    <tr>\n",
       "      <th>9</th>\n",
       "      <td>literal</td>\n",
       "      <td>Architektin</td>\n",
       "      <td>http://www.w3.org/2001/XMLSchema#integer</td>\n",
       "      <td>literal</td>\n",
       "      <td>4</td>\n",
       "    </tr>\n",
       "  </tbody>\n",
       "</table>\n",
       "</div>"
      ],
      "text/plain": [
       "  formLabel.type    formLabel.value                     maxformLabel.datatype  \\\n",
       "0        literal   Schriftstellerin  http://www.w3.org/2001/XMLSchema#integer   \n",
       "1        literal        Politikerin  http://www.w3.org/2001/XMLSchema#integer   \n",
       "2        literal  Kinderbuchautorin  http://www.w3.org/2001/XMLSchema#integer   \n",
       "3        literal       Journalistin  http://www.w3.org/2001/XMLSchema#integer   \n",
       "4        literal   Frauenrechtlerin  http://www.w3.org/2001/XMLSchema#integer   \n",
       "5        literal          Dichterin  http://www.w3.org/2001/XMLSchema#integer   \n",
       "6        literal         Romancière  http://www.w3.org/2001/XMLSchema#integer   \n",
       "7        literal             Ärztin  http://www.w3.org/2001/XMLSchema#integer   \n",
       "8        literal      Herausgeberin  http://www.w3.org/2001/XMLSchema#integer   \n",
       "9        literal        Architektin  http://www.w3.org/2001/XMLSchema#integer   \n",
       "\n",
       "  maxformLabel.type maxformLabel.value  \n",
       "0           literal                 16  \n",
       "1           literal                  7  \n",
       "2           literal                  5  \n",
       "3           literal                  5  \n",
       "4           literal                  5  \n",
       "5           literal                  5  \n",
       "6           literal                  4  \n",
       "7           literal                  4  \n",
       "8           literal                  4  \n",
       "9           literal                  4  "
      ]
     },
     "execution_count": 108,
     "metadata": {},
     "output_type": "execute_result"
    }
   ],
   "source": [
    "results_df.head(10)"
   ]
  },
  {
   "cell_type": "code",
   "execution_count": 110,
   "id": "3989e00b-a87d-4532-b9a3-e724755b26a0",
   "metadata": {},
   "outputs": [],
   "source": [
    "df = results_df[[\"formLabel.value\",\"maxformLabel.value\"]]"
   ]
  },
  {
   "cell_type": "code",
   "execution_count": 111,
   "id": "1bf14192-02f6-45bb-af60-9ec35ee343ee",
   "metadata": {},
   "outputs": [
    {
     "name": "stdout",
     "output_type": "stream",
     "text": [
      "<class 'pandas.core.frame.DataFrame'>\n",
      "RangeIndex: 10 entries, 0 to 9\n",
      "Data columns (total 2 columns):\n",
      " #   Column              Non-Null Count  Dtype \n",
      "---  ------              --------------  ----- \n",
      " 0   formLabel.value     10 non-null     object\n",
      " 1   maxformLabel.value  10 non-null     object\n",
      "dtypes: object(2)\n",
      "memory usage: 288.0+ bytes\n"
     ]
    }
   ],
   "source": [
    "df.info()"
   ]
  },
  {
   "cell_type": "code",
   "execution_count": 112,
   "id": "ac74c91c-10b1-42d6-aced-8a9100a118d3",
   "metadata": {},
   "outputs": [
    {
     "name": "stderr",
     "output_type": "stream",
     "text": [
      "/tmp/ipykernel_57/806153329.py:1: SettingWithCopyWarning: \n",
      "A value is trying to be set on a copy of a slice from a DataFrame.\n",
      "Try using .loc[row_indexer,col_indexer] = value instead\n",
      "\n",
      "See the caveats in the documentation: https://pandas.pydata.org/pandas-docs/stable/user_guide/indexing.html#returning-a-view-versus-a-copy\n",
      "  df['maxformLabel.value'] = df['maxformLabel.value'].astype(int)\n"
     ]
    }
   ],
   "source": [
    "df['maxformLabel.value'] = df['maxformLabel.value'].astype(int)"
   ]
  },
  {
   "cell_type": "code",
   "execution_count": 113,
   "id": "0fe2521c-5d9b-482b-a68d-ac6c5cf83b74",
   "metadata": {},
   "outputs": [
    {
     "data": {
      "image/png": "[encoded data removed]",
      "text/plain": [
       "<Figure size 640x480 with 1 Axes>"
      ]
     },
     "metadata": {},
     "output_type": "display_data"
    }
   ],
   "source": [
    "fig1, ax1 = plt.subplots()\n",
    "ax1.bar(df[\"formLabel.value\"], df[\"maxformLabel.value\"])\n",
    "ax1.legend(['# Frauen mit Strasse in ZRH'])\n",
    "plt.xticks(rotation=45, ha='right')\n",
    "plt.show()"
   ]
  },
  {
   "cell_type": "markdown",
   "id": "b01acf90-8c48-4d88-9ce9-d9a827597424",
   "metadata": {},
   "source": [
    "# Beschäftigung der Männer"
   ]
  },
  {
   "cell_type": "code",
   "execution_count": 105,
   "id": "4d5c8872-d756-4272-8884-461dd681d985",
   "metadata": {},
   "outputs": [],
   "source": [
    "def createQueryMaleOccup():\n",
    "    \n",
    "    wdUrl = \"https://query.wikidata.org/sparql\"\n",
    "    user_agent = 'Streetnamequery/1.0 (https://github.com/CaptainInler/equalstreetnames-zurich-QS)'\n",
    "    sparql = SPARQLWrapper(wdUrl, agent=user_agent)\n",
    "    \n",
    "    #print(wdKey)\n",
    "    query = \"\"\"\n",
    "    SELECT ?formLabel (Count(?formLabel) as ?maxformLabel) \n",
    "    WHERE \n",
    "    {\n",
    "      ?item wdt:P131 wd:Q72;\n",
    "            wdt:P138 ?person.\n",
    "      ?person wdt:P21 wd:Q6581097;\n",
    "              wdt:P31 wd:Q5;\n",
    "              wdt:P106 ?form.\n",
    "\n",
    "      SERVICE wikibase:label { bd:serviceParam wikibase:language \"[AUTO_LANGUAGE],de\". } \n",
    "    }\n",
    "    GROUP BY ?formLabel\n",
    "    ORDER BY DESC(?maxformLabel)\n",
    "    LIMIT 10\n",
    "    \"\"\"\n",
    "    #print(query)\n",
    "    \n",
    "    sparql.setQuery(query)\n",
    "    sparql.setReturnFormat(JSON)\n",
    "    return sparql"
   ]
  },
  {
   "cell_type": "code",
   "execution_count": 6,
   "id": "76595650-9e14-4cd6-a477-6869a64a0644",
   "metadata": {},
   "outputs": [],
   "source": [
    "sparql = createQueryMaleOccup()"
   ]
  },
  {
   "cell_type": "code",
   "execution_count": 7,
   "id": "9e9fc8a5-4e09-4f60-9287-59d794d56d81",
   "metadata": {},
   "outputs": [],
   "source": [
    "results = \"\"\n",
    "\n",
    "try:\n",
    "    results = sparql.query()\n",
    "    #print(results.info())\n",
    "except HTTPError as e:\n",
    "    print(f\"{i} Anfragen ausgeführt\")\n",
    "    #Prüfen auf Statuscode 429 (Too many Requests)\n",
    "    if e.status == 429:\n",
    "        print(f'Statuscode 429 aufgetreten: Neu Anfrage in {e.headers.get(\"retry-after\")}sec möglich')\n",
    "        sleep(int(e.headers.get(\"retry-after\"))+2)\n",
    "    else:\n",
    "        raise\n",
    "        \n",
    "result = results.convert()\n",
    "#print(result)\n",
    "results_df = pd.json_normalize(result['results']['bindings'])"
   ]
  },
  {
   "cell_type": "code",
   "execution_count": 116,
   "id": "b16b3e5c-6d18-4ad2-a66d-cffcb6b32ced",
   "metadata": {},
   "outputs": [
    {
     "name": "stderr",
     "output_type": "stream",
     "text": [
      "/tmp/ipykernel_57/1485871073.py:2: SettingWithCopyWarning: \n",
      "A value is trying to be set on a copy of a slice from a DataFrame.\n",
      "Try using .loc[row_indexer,col_indexer] = value instead\n",
      "\n",
      "See the caveats in the documentation: https://pandas.pydata.org/pandas-docs/stable/user_guide/indexing.html#returning-a-view-versus-a-copy\n",
      "  df['maxformLabel.value'] = df['maxformLabel.value'].astype(int)\n"
     ]
    }
   ],
   "source": [
    "df = results_df[[\"formLabel.value\",\"maxformLabel.value\"]]\n",
    "df['maxformLabel.value'] = df['maxformLabel.value'].astype(int)"
   ]
  },
  {
   "cell_type": "code",
   "execution_count": 117,
   "id": "17f18328-4619-4d50-a700-f800ce402201",
   "metadata": {},
   "outputs": [
    {
     "data": {
      "image/png": "[encoded data removed]",
      "text/plain": [
       "<Figure size 640x480 with 1 Axes>"
      ]
     },
     "metadata": {},
     "output_type": "display_data"
    }
   ],
   "source": [
    "fig1, ax1 = plt.subplots()\n",
    "ax1.bar(df[\"formLabel.value\"], df[\"maxformLabel.value\"])\n",
    "ax1.legend(['# Männer mit Strasse in ZRH'])\n",
    "plt.xticks(rotation=45, ha='right')\n",
    "plt.show()"
   ]
  },
  {
   "cell_type": "markdown",
   "id": "a5ea4269-bbba-4faf-a517-1195404c1aff",
   "metadata": {},
   "source": [
    "# Durchschnittsalter"
   ]
  },
  {
   "cell_type": "code",
   "execution_count": 5,
   "id": "000ef1eb-8d6f-42e5-8db4-2eacb60a75bf",
   "metadata": {},
   "outputs": [],
   "source": [
    "def createQueryMaleOccup():\n",
    "    \n",
    "    wdUrl = \"https://query.wikidata.org/sparql\"\n",
    "    user_agent = 'Streetnamequery/1.0 (https://github.com/CaptainInler/equalstreetnames-zurich-QS)'\n",
    "    sparql = SPARQLWrapper(wdUrl, agent=user_agent)\n",
    "    \n",
    "    #print(wdKey)\n",
    "    query = \"\"\"\n",
    "    SELECT ?person ?personLabel (2023 -year(?gebur) as ?alter )\n",
    "    WHERE \n",
    "    {\n",
    "      ?item wdt:P131 wd:Q72;\n",
    "            wdt:P138 ?person.\n",
    "      ?person wdt:P21 wd:Q6581097;\n",
    "              wdt:P31 wd:Q5;\n",
    "              wdt:P569 ?gebur.\n",
    "\n",
    "      SERVICE wikibase:label { bd:serviceParam wikibase:language \"[AUTO_LANGUAGE],de\". } \n",
    "    }\n",
    "    \"\"\"\n",
    "    #print(query)\n",
    "    \n",
    "    sparql.setQuery(query)\n",
    "    sparql.setReturnFormat(JSON)\n",
    "    return sparql"
   ]
  },
  {
   "cell_type": "code",
   "execution_count": 8,
   "id": "7aa4ff61-4dd4-4c7a-94c9-0852ce71abe4",
   "metadata": {},
   "outputs": [
    {
     "data": {
      "text/html": [
       "<div>\n",
       "<style scoped>\n",
       "    .dataframe tbody tr th:only-of-type {\n",
       "        vertical-align: middle;\n",
       "    }\n",
       "\n",
       "    .dataframe tbody tr th {\n",
       "        vertical-align: top;\n",
       "    }\n",
       "\n",
       "    .dataframe thead th {\n",
       "        text-align: right;\n",
       "    }\n",
       "</style>\n",
       "<table border=\"1\" class=\"dataframe\">\n",
       "  <thead>\n",
       "    <tr style=\"text-align: right;\">\n",
       "      <th></th>\n",
       "      <th>person.type</th>\n",
       "      <th>person.value</th>\n",
       "      <th>personLabel.xml:lang</th>\n",
       "      <th>personLabel.type</th>\n",
       "      <th>personLabel.value</th>\n",
       "      <th>alter.datatype</th>\n",
       "      <th>alter.type</th>\n",
       "      <th>alter.value</th>\n",
       "    </tr>\n",
       "  </thead>\n",
       "  <tbody>\n",
       "    <tr>\n",
       "      <th>0</th>\n",
       "      <td>uri</td>\n",
       "      <td>http://www.wikidata.org/entity/Q5879</td>\n",
       "      <td>de</td>\n",
       "      <td>literal</td>\n",
       "      <td>Johann Wolfgang von Goethe</td>\n",
       "      <td>http://www.w3.org/2001/XMLSchema#integer</td>\n",
       "      <td>literal</td>\n",
       "      <td>274</td>\n",
       "    </tr>\n",
       "    <tr>\n",
       "      <th>1</th>\n",
       "      <td>uri</td>\n",
       "      <td>http://www.wikidata.org/entity/Q7312</td>\n",
       "      <td>de</td>\n",
       "      <td>literal</td>\n",
       "      <td>Franz Schubert</td>\n",
       "      <td>http://www.w3.org/2001/XMLSchema#integer</td>\n",
       "      <td>literal</td>\n",
       "      <td>226</td>\n",
       "    </tr>\n",
       "    <tr>\n",
       "      <th>2</th>\n",
       "      <td>uri</td>\n",
       "      <td>http://www.wikidata.org/entity/Q22670</td>\n",
       "      <td>de</td>\n",
       "      <td>literal</td>\n",
       "      <td>Friedrich Schiller</td>\n",
       "      <td>http://www.w3.org/2001/XMLSchema#integer</td>\n",
       "      <td>literal</td>\n",
       "      <td>264</td>\n",
       "    </tr>\n",
       "    <tr>\n",
       "      <th>3</th>\n",
       "      <td>uri</td>\n",
       "      <td>http://www.wikidata.org/entity/Q30693</td>\n",
       "      <td>de</td>\n",
       "      <td>literal</td>\n",
       "      <td>Rudolf Clausius</td>\n",
       "      <td>http://www.w3.org/2001/XMLSchema#integer</td>\n",
       "      <td>literal</td>\n",
       "      <td>201</td>\n",
       "    </tr>\n",
       "    <tr>\n",
       "      <th>4</th>\n",
       "      <td>uri</td>\n",
       "      <td>http://www.wikidata.org/entity/Q61058</td>\n",
       "      <td>de</td>\n",
       "      <td>literal</td>\n",
       "      <td>Ludwig Uhland</td>\n",
       "      <td>http://www.w3.org/2001/XMLSchema#integer</td>\n",
       "      <td>literal</td>\n",
       "      <td>236</td>\n",
       "    </tr>\n",
       "  </tbody>\n",
       "</table>\n",
       "</div>"
      ],
      "text/plain": [
       "  person.type                           person.value personLabel.xml:lang  \\\n",
       "0         uri   http://www.wikidata.org/entity/Q5879                   de   \n",
       "1         uri   http://www.wikidata.org/entity/Q7312                   de   \n",
       "2         uri  http://www.wikidata.org/entity/Q22670                   de   \n",
       "3         uri  http://www.wikidata.org/entity/Q30693                   de   \n",
       "4         uri  http://www.wikidata.org/entity/Q61058                   de   \n",
       "\n",
       "  personLabel.type           personLabel.value  \\\n",
       "0          literal  Johann Wolfgang von Goethe   \n",
       "1          literal              Franz Schubert   \n",
       "2          literal          Friedrich Schiller   \n",
       "3          literal             Rudolf Clausius   \n",
       "4          literal               Ludwig Uhland   \n",
       "\n",
       "                             alter.datatype alter.type alter.value  \n",
       "0  http://www.w3.org/2001/XMLSchema#integer    literal         274  \n",
       "1  http://www.w3.org/2001/XMLSchema#integer    literal         226  \n",
       "2  http://www.w3.org/2001/XMLSchema#integer    literal         264  \n",
       "3  http://www.w3.org/2001/XMLSchema#integer    literal         201  \n",
       "4  http://www.w3.org/2001/XMLSchema#integer    literal         236  "
      ]
     },
     "execution_count": 8,
     "metadata": {},
     "output_type": "execute_result"
    }
   ],
   "source": [
    "results_df.head()"
   ]
  },
  {
   "cell_type": "code",
   "execution_count": 12,
   "id": "ce11ed70-8f3c-40b0-8e31-109c68077662",
   "metadata": {},
   "outputs": [],
   "source": [
    "results_df['alter.value'] = results_df['alter.value'].astype(int)"
   ]
  },
  {
   "cell_type": "code",
   "execution_count": 17,
   "id": "28dee0db-b824-41ba-9e90-013418387066",
   "metadata": {},
   "outputs": [
    {
     "data": {
      "text/plain": [
       "190.0"
      ]
     },
     "execution_count": 17,
     "metadata": {},
     "output_type": "execute_result"
    }
   ],
   "source": [
    "results_df['alter.value'].median()"
   ]
  }
 ],
 "metadata": {
  "kernelspec": {
   "display_name": "Python 3 (ipykernel)",
   "language": "python",
   "name": "python3"
  },
  "language_info": {
   "codemirror_mode": {
    "name": "ipython",
    "version": 3
   },
   "file_extension": ".py",
   "mimetype": "text/x-python",
   "name": "python",
   "nbconvert_exporter": "python",
   "pygments_lexer": "ipython3",
   "version": "3.10.6"
  }
 },
 "nbformat": 4,
 "nbformat_minor": 5
}
